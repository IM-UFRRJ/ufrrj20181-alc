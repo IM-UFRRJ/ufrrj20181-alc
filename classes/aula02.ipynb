{
 "cells": [
  {
   "cell_type": "markdown",
   "metadata": {},
   "source": [
    "# Aula 02\n",
    "\n",
    "* Formatação de saída\n",
    "* Definição de funções\n",
    "* Criação de script em arquivo\n",
    "* Vetores com `numpy`"
   ]
  },
  {
   "cell_type": "markdown",
   "metadata": {},
   "source": [
    "### Formatação de saída"
   ]
  },
  {
   "cell_type": "markdown",
   "metadata": {},
   "source": [
    "Definindo uma matriz 3x3 usando um `list`"
   ]
  },
  {
   "cell_type": "code",
   "execution_count": 1,
   "metadata": {},
   "outputs": [
    {
     "name": "stdout",
     "output_type": "stream",
     "text": [
      "[[1, 2, 3], [4, 5, 6], [7, 8, 9]]\n"
     ]
    }
   ],
   "source": [
    "matriz = [[(i*3) + j+1 for j in range(3)] for i in range(3)]\n",
    "print(matriz)"
   ]
  },
  {
   "cell_type": "markdown",
   "metadata": {},
   "source": [
    "Imprimindo elementos de uma matriz (armazenada em um `list`) de acordo com uma formatação"
   ]
  },
  {
   "cell_type": "code",
   "execution_count": 2,
   "metadata": {},
   "outputs": [
    {
     "name": "stdout",
     "output_type": "stream",
     "text": [
      "1\t2\t3\t\n",
      "4\t5\t6\t\n",
      "7\t8\t9\t\n"
     ]
    }
   ],
   "source": [
    "for linha in matriz:\n",
    "    saida = \"\"\n",
    "    for celula in linha:\n",
    "        saida += f\"{celula}\\t\"\n",
    "    print(saida)"
   ]
  },
  {
   "cell_type": "code",
   "execution_count": 3,
   "metadata": {},
   "outputs": [
    {
     "name": "stdout",
     "output_type": "stream",
     "text": [
      "1\t2\t3\n",
      "4\t5\t6\n",
      "7\t8\t9\n"
     ]
    }
   ],
   "source": [
    "saida = []\n",
    "for linha in matriz:\n",
    "    saida.append(\"\\t\".join([f\"{celula}\" for celula in linha]))\n",
    "print(\"\\n\".join(saida))"
   ]
  },
  {
   "cell_type": "code",
   "execution_count": 4,
   "metadata": {},
   "outputs": [
    {
     "name": "stdout",
     "output_type": "stream",
     "text": [
      "1\t2\t3\n",
      "4\t5\t6\n",
      "7\t8\t9\n"
     ]
    }
   ],
   "source": [
    "print(\"\\n\".join([\"\\t\".join([f\"{celula}\" for celula in linha]) for linha in matriz]))"
   ]
  },
  {
   "cell_type": "markdown",
   "metadata": {},
   "source": [
    "### Definição de funções"
   ]
  },
  {
   "cell_type": "markdown",
   "metadata": {},
   "source": [
    "Definindo uma função para imprimir uma matriz"
   ]
  },
  {
   "cell_type": "code",
   "execution_count": 5,
   "metadata": {},
   "outputs": [],
   "source": [
    "def print_matrix(matrix, sep_row=\"\\n\", sep_col=\"\\t\"):\n",
    "    print(sep_row.join([sep_col.join([f\"{cel}\" for cel in row]) for row in matrix]))"
   ]
  },
  {
   "cell_type": "markdown",
   "metadata": {},
   "source": [
    "Invocando a função para imprimir a matriz"
   ]
  },
  {
   "cell_type": "code",
   "execution_count": 6,
   "metadata": {},
   "outputs": [
    {
     "name": "stdout",
     "output_type": "stream",
     "text": [
      "1\t2\t3\n",
      "4\t5\t6\n",
      "7\t8\t9\n"
     ]
    }
   ],
   "source": [
    "print_matrix(matriz)"
   ]
  },
  {
   "cell_type": "markdown",
   "metadata": {},
   "source": [
    "Definindo e chamando uma função para retornar a transposta de uma matriz:"
   ]
  },
  {
   "cell_type": "code",
   "execution_count": 7,
   "metadata": {},
   "outputs": [
    {
     "name": "stdout",
     "output_type": "stream",
     "text": [
      "1\t4\t7\n",
      "2\t5\t8\n",
      "3\t6\t9\n"
     ]
    }
   ],
   "source": [
    "def transpose(matrix):\n",
    "    transpose = []\n",
    "    for i, row in enumerate(matrix):\n",
    "        for j, cel in enumerate(row):\n",
    "            try: # if len(transpose) > j:\n",
    "                row_t = transpose[j]\n",
    "            except: # else:\n",
    "                row_t = []\n",
    "                transpose.append(row_t)\n",
    "            row_t.append(cel)\n",
    "    return transpose\n",
    "\n",
    "matriz_t = transpose(matriz)\n",
    "print_matrix(matriz_t)"
   ]
  },
  {
   "cell_type": "markdown",
   "metadata": {},
   "source": [
    "### Criação de script em arquivo"
   ]
  },
  {
   "cell_type": "markdown",
   "metadata": {},
   "source": [
    "Para criar um programa em python (script), basta criar um arquivo nomenado com a extensão `.py`, e o conteúdo deve ser com o código a ser executado pelo programa. Por exemplo, todas as linhas de código acima podem ser inseridas (na mesma ordem que estão dispostas) em um arquivo chamado `exemplo.py`. E para executar o script basta executar o comando `python exemplo.py`."
   ]
  },
  {
   "cell_type": "markdown",
   "metadata": {},
   "source": [
    "### Vetores com `numpy`"
   ]
  },
  {
   "cell_type": "code",
   "execution_count": null,
   "metadata": {},
   "outputs": [],
   "source": []
  },
  {
   "cell_type": "markdown",
   "metadata": {},
   "source": [
    "---\n",
    "\n",
    "[Voltar para a página inicial](../README.md)"
   ]
  }
 ],
 "metadata": {
  "kernelspec": {
   "display_name": "Python 3",
   "language": "python",
   "name": "python3"
  },
  "language_info": {
   "codemirror_mode": {
    "name": "ipython",
    "version": 3
   },
   "file_extension": ".py",
   "mimetype": "text/x-python",
   "name": "python",
   "nbconvert_exporter": "python",
   "pygments_lexer": "ipython3",
   "version": "3.6.5"
  }
 },
 "nbformat": 4,
 "nbformat_minor": 2
}
