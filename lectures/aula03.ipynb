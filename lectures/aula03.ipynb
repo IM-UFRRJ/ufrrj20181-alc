{
 "cells": [
  {
   "cell_type": "markdown",
   "metadata": {},
   "source": [
    "# Aula 03\n",
    "\n",
    "* Operações em vetores/matrizes com `numpy`"
   ]
  },
  {
   "cell_type": "markdown",
   "metadata": {},
   "source": [
    "### Operações em vetores/matrizes com `numpy`"
   ]
  },
  {
   "cell_type": "markdown",
   "metadata": {},
   "source": [
    "Importanto as bibliotecas `numpy` e `scipy`"
   ]
  },
  {
   "cell_type": "code",
   "execution_count": 1,
   "metadata": {},
   "outputs": [],
   "source": [
    "import numpy as np\n",
    "import scipy"
   ]
  },
  {
   "cell_type": "markdown",
   "metadata": {},
   "source": [
    "Matriz identidade de ordem 5"
   ]
  },
  {
   "cell_type": "code",
   "execution_count": 2,
   "metadata": {},
   "outputs": [
    {
     "name": "stdout",
     "output_type": "stream",
     "text": [
      "\n",
      "Identidade:\n",
      "[[1. 0. 0. 0. 0.]\n",
      " [0. 1. 0. 0. 0.]\n",
      " [0. 0. 1. 0. 0.]\n",
      " [0. 0. 0. 1. 0.]\n",
      " [0. 0. 0. 0. 1.]]\n"
     ]
    }
   ],
   "source": [
    "identidade = np.eye(5)\n",
    "print(f\"\\nIdentidade:\\n{identidade}\")"
   ]
  },
  {
   "cell_type": "markdown",
   "metadata": {},
   "source": [
    "Multiplicando duas matrizes"
   ]
  },
  {
   "cell_type": "code",
   "execution_count": 3,
   "metadata": {},
   "outputs": [
    {
     "name": "stdout",
     "output_type": "stream",
     "text": [
      "Matriz A (2, 4):\n",
      "[[0.80622747 0.16293858 0.40953165 0.88793999]\n",
      " [0.55883883 0.88588852 0.42097691 0.30211766]]\n",
      "\n",
      "Matriz B (4, 1):\n",
      "[[0.82774696]\n",
      " [0.25950887]\n",
      " [0.54922851]\n",
      " [0.81734809]]\n",
      "\n",
      "Matriz Resultante (2, 1):\n",
      "[[1.66031885]\n",
      " [1.17062089]]\n",
      "\n",
      "Matriz Resultante (2, 1):\n",
      "[[1.66031885]\n",
      " [1.17062089]]\n"
     ]
    }
   ],
   "source": [
    "matriz_A = np.random.random((2, 4))\n",
    "matriz_B = np.random.random((4, 1))\n",
    "print(f\"Matriz A {matriz_A.shape}:\\n{matriz_A}\")\n",
    "print(f\"\\nMatriz B {matriz_B.shape}:\\n{matriz_B}\")\n",
    "\n",
    "matriz_res = matriz_A.dot(matriz_B)\n",
    "print(f\"\\nMatriz Resultante {matriz_res.shape}:\\n{matriz_res}\")\n",
    "\n",
    "matriz_res = np.dot(matriz_A, matriz_B)\n",
    "print(f\"\\nMatriz Resultante {matriz_res.shape}:\\n{matriz_res}\")"
   ]
  },
  {
   "cell_type": "markdown",
   "metadata": {},
   "source": [
    "Definindo uma matriz 3x3"
   ]
  },
  {
   "cell_type": "code",
   "execution_count": 4,
   "metadata": {},
   "outputs": [
    {
     "name": "stdout",
     "output_type": "stream",
     "text": [
      "[0 1 2 3 4 5 6 7 8]\n"
     ]
    },
    {
     "data": {
      "text/plain": [
       "array([-4, -3, -2, -1,  1,  1,  2,  3,  4])"
      ]
     },
     "execution_count": 4,
     "metadata": {},
     "output_type": "execute_result"
    }
   ],
   "source": [
    "print(np.arange(9))\n",
    "matriz = np.arange(9) - 4\n",
    "matriz[4] = 1\n",
    "matriz"
   ]
  },
  {
   "cell_type": "markdown",
   "metadata": {},
   "source": [
    "Aplicando um `reshape` sobre o vetor para tomar a forma de uma matriz 3x3"
   ]
  },
  {
   "cell_type": "code",
   "execution_count": 5,
   "metadata": {},
   "outputs": [
    {
     "data": {
      "text/plain": [
       "array([[-4, -3, -2],\n",
       "       [-1,  1,  1],\n",
       "       [ 2,  3,  4]])"
      ]
     },
     "execution_count": 5,
     "metadata": {},
     "output_type": "execute_result"
    }
   ],
   "source": [
    "matriz = matriz.reshape((3, 3))\n",
    "matriz"
   ]
  },
  {
   "cell_type": "markdown",
   "metadata": {},
   "source": [
    "Posto (Rank) de uma matriz"
   ]
  },
  {
   "cell_type": "code",
   "execution_count": 6,
   "metadata": {},
   "outputs": [
    {
     "data": {
      "text/plain": [
       "3"
      ]
     },
     "execution_count": 6,
     "metadata": {},
     "output_type": "execute_result"
    }
   ],
   "source": [
    "np.linalg.matrix_rank(matriz)"
   ]
  },
  {
   "cell_type": "markdown",
   "metadata": {},
   "source": [
    "Inversa de uma matriz"
   ]
  },
  {
   "cell_type": "code",
   "execution_count": 7,
   "metadata": {},
   "outputs": [
    {
     "name": "stdout",
     "output_type": "stream",
     "text": [
      "[[-0.08333333 -0.5         0.08333333]\n",
      " [-0.5         1.         -0.5       ]\n",
      " [ 0.41666667 -0.5         0.58333333]]\n"
     ]
    }
   ],
   "source": [
    "inversa = np.linalg.inv(matriz)\n",
    "print(inversa)"
   ]
  },
  {
   "cell_type": "markdown",
   "metadata": {},
   "source": [
    "Transposta de uma matriz"
   ]
  },
  {
   "cell_type": "code",
   "execution_count": 8,
   "metadata": {},
   "outputs": [
    {
     "name": "stdout",
     "output_type": "stream",
     "text": [
      "[[-4 -1  2]\n",
      " [-3  1  3]\n",
      " [-2  1  4]]\n"
     ]
    }
   ],
   "source": [
    "print(matriz.transpose())"
   ]
  },
  {
   "cell_type": "markdown",
   "metadata": {},
   "source": [
    "Auto-valores e auto-vetores"
   ]
  },
  {
   "cell_type": "code",
   "execution_count": 9,
   "metadata": {},
   "outputs": [
    {
     "name": "stdout",
     "output_type": "stream",
     "text": [
      "\n",
      "Auto-valores:\n",
      "[-4.10169731  0.65843994  4.44325737]\n",
      "\n",
      "Auto-vetores:\n",
      "[[ 0.91743519  0.27538753 -0.33203716]\n",
      " [ 0.24177069 -0.79143133  0.35073528]\n",
      " [-0.31600569  0.54570886  0.87563468]]\n"
     ]
    }
   ],
   "source": [
    "auto_val, auto_vet = np.linalg.eig(matriz)\n",
    "print(f\"\\nAuto-valores:\\n{auto_val}\")\n",
    "print(f\"\\nAuto-vetores:\\n{auto_vet}\")"
   ]
  },
  {
   "cell_type": "markdown",
   "metadata": {},
   "source": [
    "Norma (de Frobenius) de uma matriz"
   ]
  },
  {
   "cell_type": "code",
   "execution_count": 10,
   "metadata": {},
   "outputs": [
    {
     "data": {
      "text/plain": [
       "7.810249675906654"
      ]
     },
     "execution_count": 10,
     "metadata": {},
     "output_type": "execute_result"
    }
   ],
   "source": [
    "np.linalg.norm(matriz)  # np.linalg.norm(matriz, ord='fro')"
   ]
  },
  {
   "cell_type": "markdown",
   "metadata": {},
   "source": [
    "Norma (2-norm) de uma matriz"
   ]
  },
  {
   "cell_type": "code",
   "execution_count": 11,
   "metadata": {},
   "outputs": [
    {
     "data": {
      "text/plain": [
       "7.372354605420665"
      ]
     },
     "execution_count": 11,
     "metadata": {},
     "output_type": "execute_result"
    }
   ],
   "source": [
    "np.linalg.norm(matriz, ord=2)"
   ]
  },
  {
   "cell_type": "markdown",
   "metadata": {},
   "source": [
    "Calculando a norma de uma matriz"
   ]
  },
  {
   "cell_type": "code",
   "execution_count": 12,
   "metadata": {},
   "outputs": [
    {
     "data": {
      "text/plain": [
       "array([-4, -3, -2, -1,  1,  1,  2,  3,  4])"
      ]
     },
     "execution_count": 12,
     "metadata": {},
     "output_type": "execute_result"
    }
   ],
   "source": [
    "vetor = matriz.flatten()\n",
    "vetor"
   ]
  },
  {
   "cell_type": "code",
   "execution_count": 13,
   "metadata": {},
   "outputs": [
    {
     "name": "stdout",
     "output_type": "stream",
     "text": [
      "7.810249675906654\n"
     ]
    }
   ],
   "source": [
    "import math\n",
    "resultado = 0\n",
    "for valor in matriz.flatten():\n",
    "    resultado += math.pow(valor, 2)\n",
    "\n",
    "print(math.sqrt(resultado))"
   ]
  },
  {
   "cell_type": "markdown",
   "metadata": {},
   "source": [
    "Distâncias entre vetores com `scipy` (euclidiana e manhatan)"
   ]
  },
  {
   "cell_type": "code",
   "execution_count": 14,
   "metadata": {},
   "outputs": [
    {
     "name": "stdout",
     "output_type": "stream",
     "text": [
      "[0.65351786 0.52802644 0.01348388 0.84851138 0.28806115]\n",
      "[0.74803685 0.61023048 0.10571499 0.49745682 0.46519732]\n",
      "Euclidean: 0.4228645785943754\n",
      "Manhatan: 0.7971448738411324\n"
     ]
    }
   ],
   "source": [
    "vetor1 = np.random.random(5)\n",
    "vetor2 = np.random.random(5)\n",
    "print(vetor1)\n",
    "print(vetor2)\n",
    "\n",
    "from scipy.spatial import distance\n",
    "dist_eucl = distance.euclidean(vetor1, vetor2)\n",
    "dist_manh = distance.cityblock(vetor1, vetor2)\n",
    "print(f\"Euclidean: {dist_eucl}\")\n",
    "print(f\"Manhatan: {dist_manh}\")"
   ]
  },
  {
   "cell_type": "markdown",
   "metadata": {},
   "source": [
    "Distância entre vetores com `numpý` (euclidiana normalizada)"
   ]
  },
  {
   "cell_type": "code",
   "execution_count": 15,
   "metadata": {},
   "outputs": [
    {
     "name": "stdout",
     "output_type": "stream",
     "text": [
      "[-0.09451899 -0.08220404 -0.09223111  0.35105457 -0.17713617]\n",
      "0.4228645785943754\n"
     ]
    }
   ],
   "source": [
    "diff_vetores = vetor1 - vetor2\n",
    "print(diff_vetores)\n",
    "print(np.linalg.norm(diff_vetores))"
   ]
  },
  {
   "cell_type": "markdown",
   "metadata": {},
   "source": [
    "Calculando a distância entre vetores"
   ]
  },
  {
   "cell_type": "code",
   "execution_count": 16,
   "metadata": {},
   "outputs": [
    {
     "name": "stdout",
     "output_type": "stream",
     "text": [
      "0.4228645785943754\n"
     ]
    }
   ],
   "source": [
    "resultado = 0\n",
    "for valor1, valor2 in zip(vetor1, vetor2):\n",
    "    resultado += math.pow(valor1 - valor2, 2)\n",
    "\n",
    "print(math.sqrt(resultado))"
   ]
  },
  {
   "cell_type": "markdown",
   "metadata": {},
   "source": [
    "Potência de uma matriz (`matriz^3`)"
   ]
  },
  {
   "cell_type": "code",
   "execution_count": 17,
   "metadata": {},
   "outputs": [
    {
     "name": "stdout",
     "output_type": "stream",
     "text": [
      "\n",
      "Potência:\n",
      "[[-69 -51 -39]\n",
      " [-13  13  25]\n",
      " [ 33  63  75]]\n"
     ]
    }
   ],
   "source": [
    "resultado = np.linalg.matrix_power(matriz, 3)\n",
    "print(f\"\\nPotência:\\n{resultado}\")"
   ]
  },
  {
   "cell_type": "markdown",
   "metadata": {},
   "source": [
    "Determinante de uma matriz"
   ]
  },
  {
   "cell_type": "code",
   "execution_count": 18,
   "metadata": {},
   "outputs": [
    {
     "name": "stdout",
     "output_type": "stream",
     "text": [
      "Determinante: -12.0\n"
     ]
    }
   ],
   "source": [
    "det_mat = np.linalg.det(matriz)\n",
    "print(f\"Determinante: {det_mat}\")"
   ]
  },
  {
   "cell_type": "markdown",
   "metadata": {},
   "source": [
    "Número condição de uma matriz"
   ]
  },
  {
   "cell_type": "code",
   "execution_count": 19,
   "metadata": {},
   "outputs": [
    {
     "data": {
      "text/plain": [
       "11.298418902545862"
      ]
     },
     "execution_count": 19,
     "metadata": {},
     "output_type": "execute_result"
    }
   ],
   "source": [
    "np.linalg.cond(matriz)"
   ]
  },
  {
   "cell_type": "markdown",
   "metadata": {},
   "source": [
    "Calculando o número condição de uma matriz"
   ]
  },
  {
   "cell_type": "code",
   "execution_count": 20,
   "metadata": {},
   "outputs": [
    {
     "name": "stdout",
     "output_type": "stream",
     "text": [
      "Número condição: 12.417505564502253\n"
     ]
    }
   ],
   "source": [
    "inversa = np.linalg.inv(matriz)\n",
    "cond = np.linalg.norm(matriz) * np.linalg.norm(inversa)\n",
    "print(f\"Número condição: {cond}\")"
   ]
  },
  {
   "cell_type": "markdown",
   "metadata": {},
   "source": [
    "Decomposição LU"
   ]
  },
  {
   "cell_type": "code",
   "execution_count": 21,
   "metadata": {},
   "outputs": [
    {
     "name": "stdout",
     "output_type": "stream",
     "text": [
      "Matriz de permutação:\n",
      "[[1. 0. 0.]\n",
      " [0. 1. 0.]\n",
      " [0. 0. 1.]]\n",
      "Triangular Inferior:\n",
      "[[ 1.          0.          0.        ]\n",
      " [ 0.25        1.          0.        ]\n",
      " [-0.5         0.85714286  1.        ]]\n",
      "Triangular Superior:\n",
      "[[-4.         -3.         -2.        ]\n",
      " [ 0.          1.75        1.5       ]\n",
      " [ 0.          0.          1.71428571]]\n"
     ]
    }
   ],
   "source": [
    "from scipy.linalg import lu\n",
    "p, l, u = lu(matriz)\n",
    "print(f\"Matriz de permutação:\\n{p}\")\n",
    "print(f\"Triangular Inferior:\\n{l}\")\n",
    "print(f\"Triangular Superior:\\n{u}\")"
   ]
  },
  {
   "cell_type": "markdown",
   "metadata": {},
   "source": [
    "Decomposição QR"
   ]
  },
  {
   "cell_type": "code",
   "execution_count": 22,
   "metadata": {},
   "outputs": [
    {
     "name": "stdout",
     "output_type": "stream",
     "text": [
      "\n",
      "Matriz Q:\n",
      "[[-0.87287156 -0.1040313   0.47673129]\n",
      " [-0.21821789 -0.79063786 -0.57207755]\n",
      " [ 0.43643578 -0.60338152  0.66742381]]\n",
      "\n",
      "Matriz R:\n",
      "[[ 4.58257569  3.70970413  3.27326835]\n",
      " [ 0.         -2.28868854 -2.99610136]\n",
      " [ 0.          0.          1.14415511]]\n"
     ]
    }
   ],
   "source": [
    "q, r = scipy.linalg.qr(matriz)\n",
    "print(f\"\\nMatriz Q:\\n{q}\")\n",
    "print(f\"\\nMatriz R:\\n{r}\")"
   ]
  },
  {
   "cell_type": "markdown",
   "metadata": {},
   "source": [
    "Verificando se duas matrizes podem ser consideradas iguais (valores correspondentes suficientemente próximos dado uma margem de erro de precisão)"
   ]
  },
  {
   "cell_type": "code",
   "execution_count": 23,
   "metadata": {},
   "outputs": [
    {
     "data": {
      "text/plain": [
       "True"
      ]
     },
     "execution_count": 23,
     "metadata": {},
     "output_type": "execute_result"
    }
   ],
   "source": [
    "scipy.allclose(matriz, np.dot(q, r), atol=1e-32)"
   ]
  },
  {
   "cell_type": "markdown",
   "metadata": {},
   "source": [
    "---\n",
    "\n",
    "[Voltar para a página inicial](../README.md)"
   ]
  }
 ],
 "metadata": {
  "kernelspec": {
   "display_name": "Python 3",
   "language": "python",
   "name": "python3"
  },
  "language_info": {
   "codemirror_mode": {
    "name": "ipython",
    "version": 3
   },
   "file_extension": ".py",
   "mimetype": "text/x-python",
   "name": "python",
   "nbconvert_exporter": "python",
   "pygments_lexer": "ipython3",
   "version": "3.6.5"
  }
 },
 "nbformat": 4,
 "nbformat_minor": 2
}
